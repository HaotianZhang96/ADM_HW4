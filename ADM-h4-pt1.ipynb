{
 "cells": [
  {
   "cell_type": "markdown",
   "metadata": {},
   "source": [
    "# Homework 4 - Hard coding"
   ]
  },
  {
   "cell_type": "markdown",
   "metadata": {},
   "source": [
    "## Pt 1 - Hashing"
   ]
  },
  {
   "cell_type": "markdown",
   "metadata": {},
   "source": [
    "#### In the first part we deal with hash function and HLL ( HyperLogLog) algorithm to estimate the cardinality of a dataset.\n"
   ]
  },
  {
   "cell_type": "code",
   "execution_count": 1,
   "metadata": {},
   "outputs": [],
   "source": [
    "import pandas as pd\n",
    "import json\n",
    "from collections import defaultdict\n",
    "import numpy as np"
   ]
  },
  {
   "cell_type": "code",
   "execution_count": 2,
   "metadata": {},
   "outputs": [],
   "source": [
    "df = pd.read_table('hash.txt')"
   ]
  },
  {
   "cell_type": "markdown",
   "metadata": {},
   "source": [
    "#### First we define the hash function. For each element of the table we choose to transform its digits in the correspondent ASCII code. After that we sum the ASCII codes of the element and we apply the module operation. \n"
   ]
  },
  {
   "cell_type": "code",
   "execution_count": 3,
   "metadata": {},
   "outputs": [],
   "source": [
    "size = 49979687 # we choose a prime number of order of magnitude comparable to our table\n",
    "\n",
    "def hash_f(name): \n",
    "    list_name = list(name) \n",
    "    ascii_sum = 0 \n",
    "    for l in list_name: \n",
    "        add = ord(l) # take the corresponding ASCII code\n",
    "        ascii_sum = ascii_sum + add \n",
    "    ascii_mod = ascii_sum % size # we use the module operation to hash \n",
    "    return ascii_mod "
   ]
  },
  {
   "cell_type": "markdown",
   "metadata": {},
   "source": [
    "#### After that we implement our hash tables"
   ]
  },
  {
   "cell_type": "code",
   "execution_count": 4,
   "metadata": {},
   "outputs": [],
   "source": [
    "h_list = []\n",
    "for k in range(size):\n",
    "    h_list.append(k)\n",
    "hash_table = {key: [] for key in h_list}  # we make an empty dictionary that will be our hash table \n",
    "\n",
    "h_list_b = []\n",
    "for k in range(size):\n",
    "    h_list_b.append(k)\n",
    "hash_table_bin = {key: [] for key in h_list_b} # we make another empy dictionary for the elements of our table written in binary"
   ]
  },
  {
   "cell_type": "code",
   "execution_count": 5,
   "metadata": {},
   "outputs": [],
   "source": [
    "for k in df['844082e02a27ddee8d99ea1af94a2969']:\n",
    "    hash_table[hash_f(k)].append(k) # # hash table with the colliding elements in list"
   ]
  },
  {
   "cell_type": "code",
   "execution_count": 6,
   "metadata": {},
   "outputs": [],
   "source": [
    "for k in df['844082e02a27ddee8d99ea1af94a2969']:\n",
    "    hash_table_bin[hash_f(k)].append(bin(int(k,16))[3:]) # # hash table with the colliding elements in list"
   ]
  },
  {
   "cell_type": "code",
   "execution_count": 7,
   "metadata": {},
   "outputs": [],
   "source": [
    "for key in hash_table:\n",
    "    hash_table[key] = list(set(hash_table[key])) # to take out repeated elements\n"
   ]
  },
  {
   "cell_type": "code",
   "execution_count": 8,
   "metadata": {},
   "outputs": [],
   "source": [
    "for key in hash_table_bin:\n",
    "    hash_table_bin[key] = list(set(hash_table_bin[key])) # to take out repeated elements"
   ]
  },
  {
   "cell_type": "markdown",
   "metadata": {},
   "source": [
    "#### After implementing our hash function we get the hash tables. Now we pass to the Hyperloglog algorithm. In the Hyperloglog algorithm we estimate the cardinality of the table using the number of zeros at the end of the elements in the binary hash table. Before doing that we have to divide the table in subgroups given by the first 5 digits (we choose to have 32 different subgroups). \n",
    " "
   ]
  },
  {
   "cell_type": "code",
   "execution_count": 9,
   "metadata": {},
   "outputs": [],
   "source": [
    "r0_table_bin={}\n",
    "for k in hash_table_bin:\n",
    "        r0_table_bin[k] = [(len(j) - len(j.rstrip('0'))) for j in hash_table_bin[k]] \n",
    "# counts the numbers of consecutives zeroes on the right for each element in the hash table\n",
    "\n"
   ]
  },
  {
   "cell_type": "code",
   "execution_count": null,
   "metadata": {},
   "outputs": [],
   "source": [
    "l0_table_bin={}\n",
    "for k in hash_table_bin:    \n",
    "    l0_table_bin[k] = [int(j[:5],2) for j in hash_table_bin[k]]\n",
    "# takes the first 5 digits for assigning the subgroup"
   ]
  },
  {
   "cell_type": "markdown",
   "metadata": {},
   "source": [
    "#### now we implement our HLL dictionary to store the highest value in each subgroup "
   ]
  },
  {
   "cell_type": "code",
   "execution_count": 10,
   "metadata": {},
   "outputs": [
    {
     "name": "stdout",
     "output_type": "stream",
     "text": [
      "{0: 0, 1: 0, 2: 0, 3: 0, 4: 0, 5: 0, 6: 0, 7: 0, 8: 0, 9: 0, 10: 0, 11: 0, 12: 0, 13: 0, 14: 0, 15: 0, 16: 0, 17: 0, 18: 0, 19: 0, 20: 0, 21: 0, 22: 0, 23: 0, 24: 0, 25: 0, 26: 0, 27: 0, 28: 0, 29: 0, 30: 0, 31: 0}\n"
     ]
    }
   ],
   "source": [
    "hll_d = {} # Hyperloglog dictionary\n",
    "\n",
    "keys = range(32)\n",
    "l = [0]*32\n",
    "for i in keys:\n",
    "    for x in l:\n",
    "        hll_d[i] = x\n",
    "# we have now a dictionary with 32 keys\n",
    "print(hll_d)"
   ]
  },
  {
   "cell_type": "code",
   "execution_count": 11,
   "metadata": {},
   "outputs": [],
   "source": [
    "for key, value in l0_table_bin.items(): # the cicle runs over the dictionary l0_table_bin\n",
    "    i = 0\n",
    "    while i < len(value): # the cicle runs over the lists in the dictionary l0_table_bin\n",
    "        r0_v = r0_table_bin[key] # to find the corresponding list in the r0_table_bin hash table \n",
    "        r0_e = r0_v[i] # to find the corresping element on r0_table_bin\n",
    "        if r0_e > hll_d[value[i]]: # substitute the value if it is greater than the previous\n",
    "            hll_d[value[i]]=r0_e\n",
    "        i += 1"
   ]
  },
  {
   "cell_type": "code",
   "execution_count": 12,
   "metadata": {},
   "outputs": [
    {
     "name": "stdout",
     "output_type": "stream",
     "text": [
      "{0: 14, 1: 14, 2: 21, 3: 15, 4: 14, 5: 15, 6: 13, 7: 13, 8: 15, 9: 15, 10: 13, 11: 14, 12: 15, 13: 17, 14: 15, 15: 16, 16: 15, 17: 14, 18: 11, 19: 13, 20: 17, 21: 14, 22: 15, 23: 13, 24: 15, 25: 15, 26: 15, 27: 13, 28: 14, 29: 15, 30: 14, 31: 14}\n"
     ]
    }
   ],
   "source": [
    "print(hll_d)\n",
    "# the elements in the dictionary are the highest sequence of right zeroes found in each subgroup"
   ]
  },
  {
   "cell_type": "code",
   "execution_count": 13,
   "metadata": {},
   "outputs": [],
   "source": [
    "list_d = [] # we make a list from the dictionary\n",
    "for key, value in hll_d.items():\n",
    "    if value != 0:      \n",
    "        list_d.append(value) # to drop zeros to avoid errors in the estimate"
   ]
  },
  {
   "cell_type": "markdown",
   "metadata": {},
   "source": [
    "#### Now we can estimate the number of  different elements in the table and the relative error.\n",
    "#### We have chosen m = 32 subgroups, to wich corresponds a coefficient alpha = 0.697"
   ]
  },
  {
   "cell_type": "code",
   "execution_count": 14,
   "metadata": {},
   "outputs": [
    {
     "name": "stdout",
     "output_type": "stream",
     "text": [
      "The estimated number of different elements in the table is  329328\n",
      "The estimated error is  0.18\n"
     ]
    }
   ],
   "source": [
    "print('The estimated number of different elements in the table is ', int(32**2 * 0.697 * (1 / sum([2**(-x) for x in list_d]))))\n",
    "error = 1.04 / np.sqrt(32)\n",
    "print('The estimated error is ', (\"%.2f\" % error))"
   ]
  },
  {
   "cell_type": "code",
   "execution_count": null,
   "metadata": {},
   "outputs": [],
   "source": []
  },
  {
   "cell_type": "code",
   "execution_count": null,
   "metadata": {},
   "outputs": [],
   "source": []
  }
 ],
 "metadata": {
  "kernelspec": {
   "display_name": "Python 3",
   "language": "python",
   "name": "python3"
  },
  "language_info": {
   "codemirror_mode": {
    "name": "ipython",
    "version": 3
   },
   "file_extension": ".py",
   "mimetype": "text/x-python",
   "name": "python",
   "nbconvert_exporter": "python",
   "pygments_lexer": "ipython3",
   "version": "3.8.3"
  }
 },
 "nbformat": 4,
 "nbformat_minor": 4
}
